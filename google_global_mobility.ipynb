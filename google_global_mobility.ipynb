{
 "cells": [
  {
   "cell_type": "code",
   "execution_count": 50,
   "metadata": {},
   "outputs": [],
   "source": [
    "import pandas as pd\n",
    "import numpy as np\n",
    "import matplotlib.pyplot as plt\n",
    "import seaborn as sns\n",
    "%matplotlib inline\n",
    "from time import time"
   ]
  },
  {
   "cell_type": "code",
   "execution_count": 2,
   "metadata": {},
   "outputs": [
    {
     "name": "stderr",
     "output_type": "stream",
     "text": [
      "C:\\Users\\USANCOL3\\AppData\\Local\\Continuum\\anaconda3\\envs\\analysis\\lib\\site-packages\\IPython\\core\\interactiveshell.py:3072: DtypeWarning: Columns (4,5) have mixed types.Specify dtype option on import or set low_memory=False.\n",
      "  interactivity=interactivity, compiler=compiler, result=result)\n"
     ]
    }
   ],
   "source": [
    "filename = r'Global_Mobility_Report.csv'\n",
    "mobility_wide = pd.read_csv(\n",
    "    filename\n",
    ")"
   ]
  },
  {
   "cell_type": "code",
   "execution_count": 3,
   "metadata": {},
   "outputs": [],
   "source": [
    "country_code = 'US'\n",
    "mobility_wide = mobility_wide.loc[\n",
    "    mobility_wide.country_region_code == country_code\n",
    "]"
   ]
  },
  {
   "cell_type": "code",
   "execution_count": 4,
   "metadata": {},
   "outputs": [
    {
     "data": {
      "text/plain": [
       "Index(['country_region_code', 'country_region', 'sub_region_1', 'sub_region_2',\n",
       "       'metro_area', 'iso_3166_2_code', 'census_fips_code', 'date',\n",
       "       'retail_and_recreation_percent_change_from_baseline',\n",
       "       'grocery_and_pharmacy_percent_change_from_baseline',\n",
       "       'parks_percent_change_from_baseline',\n",
       "       'transit_stations_percent_change_from_baseline',\n",
       "       'workplaces_percent_change_from_baseline',\n",
       "       'residential_percent_change_from_baseline'],\n",
       "      dtype='object')"
      ]
     },
     "execution_count": 4,
     "metadata": {},
     "output_type": "execute_result"
    }
   ],
   "source": [
    "mobility_wide.columns"
   ]
  },
  {
   "cell_type": "code",
   "execution_count": 5,
   "metadata": {},
   "outputs": [],
   "source": [
    "mobility_wide = mobility_wide.rename(columns={\n",
    "    'retail_and_recreation_percent_change_from_baseline': 'retail_recreation',\n",
    "    'grocery_and_pharmacy_percent_change_from_baseline': 'grocery_pharmacy',\n",
    "    'parks_percent_change_from_baseline': 'parks',\n",
    "    'transit_stations_percent_change_from_baseline': 'transit_stations',\n",
    "    'workplaces_percent_change_from_baseline': 'workplaces',\n",
    "    'residential_percent_change_from_baseline': 'residential'\n",
    "})"
   ]
  },
  {
   "cell_type": "code",
   "execution_count": null,
   "metadata": {
    "scrolled": true
   },
   "outputs": [],
   "source": [
    "mobility_wide.dtypes"
   ]
  },
  {
   "cell_type": "code",
   "execution_count": 6,
   "metadata": {},
   "outputs": [
    {
     "data": {
      "text/plain": [
       "Index                   5.133125\n",
       "country_region_code    37.856799\n",
       "country_region         44.914846\n",
       "sub_region_1           41.776830\n",
       "sub_region_2           44.994155\n",
       "metro_area             20.532501\n",
       "iso_3166_2_code        20.923546\n",
       "census_fips_code        5.133125\n",
       "date                   42.989924\n",
       "retail_recreation       5.133125\n",
       "grocery_pharmacy        5.133125\n",
       "parks                   5.133125\n",
       "transit_stations        5.133125\n",
       "workplaces              5.133125\n",
       "residential             5.133125\n",
       "dtype: float64"
      ]
     },
     "execution_count": 6,
     "metadata": {},
     "output_type": "execute_result"
    }
   ],
   "source": [
    "mobility_wide.memory_usage(deep=True) / 1024**2"
   ]
  },
  {
   "cell_type": "code",
   "execution_count": 12,
   "metadata": {},
   "outputs": [
    {
     "data": {
      "text/plain": [
       "country_region_code         0\n",
       "country_region              0\n",
       "sub_region_1              268\n",
       "sub_region_2            13936\n",
       "metro_area             672809\n",
       "iso_3166_2_code        659141\n",
       "census_fips_code        13668\n",
       "date                        0\n",
       "retail_recreation      220784\n",
       "grocery_pharmacy       260832\n",
       "parks                  517102\n",
       "transit_stations       418128\n",
       "workplaces              22763\n",
       "residential            324768\n",
       "dtype: int64"
      ]
     },
     "execution_count": 12,
     "metadata": {},
     "output_type": "execute_result"
    }
   ],
   "source": [
    "mobility_wide.isna().sum()"
   ]
  },
  {
   "cell_type": "code",
   "execution_count": null,
   "metadata": {},
   "outputs": [],
   "source": [
    "mobility_wide.head()"
   ]
  },
  {
   "cell_type": "code",
   "execution_count": 40,
   "metadata": {},
   "outputs": [],
   "source": [
    "def memory_usage(df, detail=False):\n",
    "    mem = df.memory_usage(deep=True) / 1024**2\n",
    "    tot_mem = round(mem.sum(), 2)\n",
    "    print(f\"total memory MB: {tot_mem}\")\n",
    "    if detail:\n",
    "        print(f\"\\n{mem}\")"
   ]
  },
  {
   "cell_type": "code",
   "execution_count": 41,
   "metadata": {},
   "outputs": [
    {
     "name": "stdout",
     "output_type": "stream",
     "text": [
      "total memory MB: 295.05\n",
      "\n",
      "Index                   5.133125\n",
      "country_region_code    37.856799\n",
      "country_region         44.914846\n",
      "sub_region_1           41.776830\n",
      "sub_region_2           44.994155\n",
      "metro_area             20.532501\n",
      "iso_3166_2_code        20.923546\n",
      "census_fips_code        5.133125\n",
      "date                   42.989924\n",
      "retail_recreation       5.133125\n",
      "grocery_pharmacy        5.133125\n",
      "parks                   5.133125\n",
      "transit_stations        5.133125\n",
      "workplaces              5.133125\n",
      "residential             5.133125\n",
      "dtype: float64\n"
     ]
    }
   ],
   "source": [
    "memory_usage(mobility_wide, detail=True)"
   ]
  },
  {
   "cell_type": "code",
   "execution_count": null,
   "metadata": {},
   "outputs": [],
   "source": [
    "mobility_wide.date = pd.to_datetime(mobility_wide.date)"
   ]
  },
  {
   "cell_type": "code",
   "execution_count": 42,
   "metadata": {},
   "outputs": [],
   "source": [
    "mobility_long = mobility_wide.melt(id_vars=[\n",
    "    'country_region',\n",
    "    'sub_region_1',\n",
    "    'sub_region_2',\n",
    "    'metro_area',\n",
    "    'census_fips_code',\n",
    "    'date'\n",
    "    ], \n",
    "    value_vars=[\n",
    "    'retail_recreation',\n",
    "    'grocery_pharmacy',\n",
    "    'parks',\n",
    "    'transit_stations',\n",
    "    'workplaces',\n",
    "    'residential'\n",
    "    ],\n",
    "    var_name='activity',\n",
    "    value_name='percent_change'\n",
    ")"
   ]
  },
  {
   "cell_type": "code",
   "execution_count": 43,
   "metadata": {},
   "outputs": [
    {
     "name": "stdout",
     "output_type": "stream",
     "text": [
      "total memory MB: 1500.41\n",
      "\n",
      "Index                 0.000122\n",
      "country_region      269.489079\n",
      "sub_region_1        250.660978\n",
      "sub_region_2        269.964930\n",
      "metro_area          123.195007\n",
      "census_fips_code     30.798752\n",
      "date                257.939547\n",
      "activity            267.564157\n",
      "percent_change       30.798752\n",
      "dtype: float64\n"
     ]
    }
   ],
   "source": [
    "memory_usage(mobility_long, detail=True)"
   ]
  },
  {
   "cell_type": "code",
   "execution_count": 52,
   "metadata": {},
   "outputs": [
    {
     "name": "stdout",
     "output_type": "stream",
     "text": [
      "39.72965955734253\n"
     ]
    }
   ],
   "source": [
    "# write to file\n",
    "start = time()\n",
    "mobility_long.to_csv(\n",
    "    f'{country_code}_mobility_long.csv.gz',\n",
    "    compression='gzip',\n",
    "    index=False\n",
    ")\n",
    "end = time()\n",
    "print(end - start)"
   ]
  },
  {
   "cell_type": "code",
   "execution_count": 59,
   "metadata": {},
   "outputs": [
    {
     "name": "stdout",
     "output_type": "stream",
     "text": [
      "6.342523097991943\n"
     ]
    },
    {
     "data": {
      "text/html": [
       "<div>\n",
       "<style scoped>\n",
       "    .dataframe tbody tr th:only-of-type {\n",
       "        vertical-align: middle;\n",
       "    }\n",
       "\n",
       "    .dataframe tbody tr th {\n",
       "        vertical-align: top;\n",
       "    }\n",
       "\n",
       "    .dataframe thead th {\n",
       "        text-align: right;\n",
       "    }\n",
       "</style>\n",
       "<table border=\"1\" class=\"dataframe\">\n",
       "  <thead>\n",
       "    <tr style=\"text-align: right;\">\n",
       "      <th></th>\n",
       "      <th>country_region</th>\n",
       "      <th>sub_region_1</th>\n",
       "      <th>sub_region_2</th>\n",
       "      <th>metro_area</th>\n",
       "      <th>census_fips_code</th>\n",
       "      <th>date</th>\n",
       "      <th>activity</th>\n",
       "      <th>percent_change</th>\n",
       "    </tr>\n",
       "  </thead>\n",
       "  <tbody>\n",
       "    <tr>\n",
       "      <th>0</th>\n",
       "      <td>United States</td>\n",
       "      <td>NaN</td>\n",
       "      <td>NaN</td>\n",
       "      <td>NaN</td>\n",
       "      <td>NaN</td>\n",
       "      <td>2020-02-15</td>\n",
       "      <td>retail_recreation</td>\n",
       "      <td>6.0</td>\n",
       "    </tr>\n",
       "    <tr>\n",
       "      <th>1</th>\n",
       "      <td>United States</td>\n",
       "      <td>NaN</td>\n",
       "      <td>NaN</td>\n",
       "      <td>NaN</td>\n",
       "      <td>NaN</td>\n",
       "      <td>2020-02-16</td>\n",
       "      <td>retail_recreation</td>\n",
       "      <td>7.0</td>\n",
       "    </tr>\n",
       "    <tr>\n",
       "      <th>2</th>\n",
       "      <td>United States</td>\n",
       "      <td>NaN</td>\n",
       "      <td>NaN</td>\n",
       "      <td>NaN</td>\n",
       "      <td>NaN</td>\n",
       "      <td>2020-02-17</td>\n",
       "      <td>retail_recreation</td>\n",
       "      <td>6.0</td>\n",
       "    </tr>\n",
       "    <tr>\n",
       "      <th>3</th>\n",
       "      <td>United States</td>\n",
       "      <td>NaN</td>\n",
       "      <td>NaN</td>\n",
       "      <td>NaN</td>\n",
       "      <td>NaN</td>\n",
       "      <td>2020-02-18</td>\n",
       "      <td>retail_recreation</td>\n",
       "      <td>0.0</td>\n",
       "    </tr>\n",
       "    <tr>\n",
       "      <th>4</th>\n",
       "      <td>United States</td>\n",
       "      <td>NaN</td>\n",
       "      <td>NaN</td>\n",
       "      <td>NaN</td>\n",
       "      <td>NaN</td>\n",
       "      <td>2020-02-19</td>\n",
       "      <td>retail_recreation</td>\n",
       "      <td>2.0</td>\n",
       "    </tr>\n",
       "  </tbody>\n",
       "</table>\n",
       "</div>"
      ],
      "text/plain": [
       "  country_region sub_region_1 sub_region_2  metro_area  census_fips_code  \\\n",
       "0  United States          NaN          NaN         NaN               NaN   \n",
       "1  United States          NaN          NaN         NaN               NaN   \n",
       "2  United States          NaN          NaN         NaN               NaN   \n",
       "3  United States          NaN          NaN         NaN               NaN   \n",
       "4  United States          NaN          NaN         NaN               NaN   \n",
       "\n",
       "        date           activity  percent_change  \n",
       "0 2020-02-15  retail_recreation             6.0  \n",
       "1 2020-02-16  retail_recreation             7.0  \n",
       "2 2020-02-17  retail_recreation             6.0  \n",
       "3 2020-02-18  retail_recreation             0.0  \n",
       "4 2020-02-19  retail_recreation             2.0  "
      ]
     },
     "execution_count": 59,
     "metadata": {},
     "output_type": "execute_result"
    }
   ],
   "source": [
    "start = time()\n",
    "us_long = pd.read_csv('./US_mobility_long.zip', compression='zip', parse_dates=['date'])\n",
    "end = time()\n",
    "print(end - start)\n",
    "us_long.head()"
   ]
  },
  {
   "cell_type": "code",
   "execution_count": 60,
   "metadata": {},
   "outputs": [
    {
     "data": {
      "text/plain": [
       "country_region              object\n",
       "sub_region_1                object\n",
       "sub_region_2                object\n",
       "metro_area                 float64\n",
       "census_fips_code           float64\n",
       "date                datetime64[ns]\n",
       "activity                    object\n",
       "percent_change             float64\n",
       "dtype: object"
      ]
     },
     "execution_count": 60,
     "metadata": {},
     "output_type": "execute_result"
    }
   ],
   "source": [
    "us_long.dtypes"
   ]
  },
  {
   "cell_type": "code",
   "execution_count": null,
   "metadata": {},
   "outputs": [],
   "source": [
    "us = mobility_long.loc[\n",
    "    (mobility_long.country_region == 'United States') &\n",
    "    (mobility_long.census_fips_code.notna())\n",
    "]"
   ]
  },
  {
   "cell_type": "code",
   "execution_count": null,
   "metadata": {},
   "outputs": [],
   "source": [
    "us.head()"
   ]
  },
  {
   "cell_type": "code",
   "execution_count": null,
   "metadata": {},
   "outputs": [],
   "source": [
    "us.loc[\n",
    "    (us.sub_region_1 == 'Alabama') &\n",
    "    (us.sub_region_2.isin(['Autauga County', 'Baldwin County'])),\n",
    "    ['date']\n",
    "].value_counts()"
   ]
  },
  {
   "cell_type": "code",
   "execution_count": null,
   "metadata": {},
   "outputs": [],
   "source": [
    "co.head()"
   ]
  },
  {
   "cell_type": "code",
   "execution_count": null,
   "metadata": {},
   "outputs": [],
   "source": [
    "co.shape"
   ]
  },
  {
   "cell_type": "code",
   "execution_count": null,
   "metadata": {},
   "outputs": [],
   "source": [
    "boulder = co.loc[\n",
    "    co.sub_region_2 == 'Boulder County'\n",
    "]"
   ]
  },
  {
   "cell_type": "code",
   "execution_count": null,
   "metadata": {},
   "outputs": [],
   "source": [
    "boulder.columns"
   ]
  },
  {
   "cell_type": "code",
   "execution_count": null,
   "metadata": {},
   "outputs": [],
   "source": [
    "boulder.activity.unique()"
   ]
  },
  {
   "cell_type": "code",
   "execution_count": null,
   "metadata": {},
   "outputs": [],
   "source": [
    "boulder_transit = boulder.loc[\n",
    "    boulder.activity == 'retail_recreation',\n",
    "    [\n",
    "        'date',\n",
    "        'percent_change'\n",
    "    ]\n",
    "]"
   ]
  },
  {
   "cell_type": "code",
   "execution_count": null,
   "metadata": {},
   "outputs": [],
   "source": [
    "# function for shading weekend days in plots\n",
    "def highlight_weekends(ax, timeseries):\n",
    "    # access datetime attributes of timeseries\n",
    "    dt = timeseries.dt\n",
    "    # create df of weekend start and end dates\n",
    "    ranges = timeseries[dt.dayofweek >= 5].groupby([dt.year, dt.isocalendar().week]).agg(['min', 'max'])\n",
    "    # fill area between weekend dates\n",
    "    for i, tmin, tmax in ranges.itertuples():\n",
    "        ax.axvspan(tmin, tmax, facecolor='gray', edgecolor='none', alpha=0.1)"
   ]
  },
  {
   "cell_type": "code",
   "execution_count": null,
   "metadata": {},
   "outputs": [],
   "source": [
    "fig, ax = plt.subplots(figsize=(23, 6))\n",
    "sns.lineplot(x=co.date.unique(), y=boulder_transit.percent_change)\n",
    "highlight_weekends(ax, co.date)\n",
    "# ax = sns.lineplot(x=co.date.unique(), y=boulder_transit.percent_change.rolling(7).mean())\n",
    "# start, end = ax.get_xlim()\n",
    "# ax.xaxis.set_ticks(np.arange(start + 9, end - 4, 7))\n",
    "# plt.xticks(rotation=45, ha='right', rotation_mode='anchor')\n",
    "ax.xaxis.set_tick_params(length=0)\n",
    "ax.yaxis.set_tick_params(length=0)\n",
    "plt.xlabel(\"year-month\")\n",
    "plt.title(\"transit\")\n",
    "sns.despine(left=True, bottom=True)\n",
    "plt.show()"
   ]
  }
 ],
 "metadata": {
  "kernelspec": {
   "display_name": "Python 3",
   "language": "python",
   "name": "python3"
  },
  "language_info": {
   "codemirror_mode": {
    "name": "ipython",
    "version": 3
   },
   "file_extension": ".py",
   "mimetype": "text/x-python",
   "name": "python",
   "nbconvert_exporter": "python",
   "pygments_lexer": "ipython3",
   "version": "3.6.10"
  }
 },
 "nbformat": 4,
 "nbformat_minor": 4
}
