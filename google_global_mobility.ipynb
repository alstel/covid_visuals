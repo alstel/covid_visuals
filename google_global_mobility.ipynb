{
 "cells": [
  {
   "cell_type": "code",
   "execution_count": 1,
   "metadata": {},
   "outputs": [],
   "source": [
    "import pandas as pd\n",
    "import numpy as np\n",
    "import matplotlib.pyplot as plt\n",
    "import seaborn as sns\n",
    "%matplotlib inline\n",
    "from time import time"
   ]
  },
  {
   "cell_type": "code",
   "execution_count": 4,
   "metadata": {},
   "outputs": [
    {
     "name": "stderr",
     "output_type": "stream",
     "text": [
      "C:\\Users\\USANCOL3\\AppData\\Local\\Continuum\\anaconda3\\envs\\analysis\\lib\\site-packages\\IPython\\core\\interactiveshell.py:3072: DtypeWarning: Columns (4,5) have mixed types.Specify dtype option on import or set low_memory=False.\n",
      "  interactivity=interactivity, compiler=compiler, result=result)\n"
     ]
    }
   ],
   "source": [
    "filename = r'Global_Mobility_Report.zip'\n",
    "mobility_wide = pd.read_csv(\n",
    "    filename,\n",
    "    compression='zip'   \n",
    ")"
   ]
  },
  {
   "cell_type": "code",
   "execution_count": null,
   "metadata": {},
   "outputs": [],
   "source": [
    "country_region_code = 'US'\n",
    "mobility_wide = mobility_wide.loc[\n",
    "    mobility_wide.country_region_code == country_region_code\n",
    "]"
   ]
  },
  {
   "cell_type": "code",
   "execution_count": null,
   "metadata": {},
   "outputs": [],
   "source": [
    "mobility_wide.columns"
   ]
  },
  {
   "cell_type": "code",
   "execution_count": null,
   "metadata": {},
   "outputs": [],
   "source": [
    "mobility_wide = mobility_wide.rename(columns={\n",
    "    'retail_and_recreation_percent_change_from_baseline': 'retail_recreation',\n",
    "    'grocery_and_pharmacy_percent_change_from_baseline': 'grocery_pharmacy',\n",
    "    'parks_percent_change_from_baseline': 'parks',\n",
    "    'transit_stations_percent_change_from_baseline': 'transit_stations',\n",
    "    'workplaces_percent_change_from_baseline': 'workplaces',\n",
    "    'residential_percent_change_from_baseline': 'residential'\n",
    "})"
   ]
  },
  {
   "cell_type": "code",
   "execution_count": null,
   "metadata": {
    "scrolled": true
   },
   "outputs": [],
   "source": [
    "mobility_wide.dtypes"
   ]
  },
  {
   "cell_type": "code",
   "execution_count": null,
   "metadata": {},
   "outputs": [],
   "source": [
    "mobility_wide.memory_usage(deep=True) / 1024**2"
   ]
  },
  {
   "cell_type": "code",
   "execution_count": null,
   "metadata": {},
   "outputs": [],
   "source": [
    "mobility_wide.isna().sum()"
   ]
  },
  {
   "cell_type": "code",
   "execution_count": null,
   "metadata": {},
   "outputs": [],
   "source": [
    "mobility_wide.head()"
   ]
  },
  {
   "cell_type": "code",
   "execution_count": null,
   "metadata": {},
   "outputs": [],
   "source": [
    "def memory_usage(df, detail=False):\n",
    "    mem = df.memory_usage(deep=True) / 1024**2\n",
    "    tot_mem = round(mem.sum(), 2)\n",
    "    print(f\"total memory MB: {tot_mem}\")\n",
    "    if detail:\n",
    "        print(f\"\\n{mem}\")"
   ]
  },
  {
   "cell_type": "code",
   "execution_count": null,
   "metadata": {},
   "outputs": [],
   "source": [
    "memory_usage(mobility_wide, detail=True)"
   ]
  },
  {
   "cell_type": "code",
   "execution_count": null,
   "metadata": {},
   "outputs": [],
   "source": [
    "mobility_wide.date = pd.to_datetime(mobility_wide.date)"
   ]
  },
  {
   "cell_type": "code",
   "execution_count": null,
   "metadata": {},
   "outputs": [],
   "source": [
    "mobility_long = mobility_wide.melt(id_vars=[\n",
    "    'country_region_code',\n",
    "    'sub_region_1',\n",
    "    'sub_region_2',\n",
    "    'metro_area',\n",
    "    'census_fips_code',\n",
    "    'date'\n",
    "    ], \n",
    "    value_vars=[\n",
    "    'retail_recreation',\n",
    "    'grocery_pharmacy',\n",
    "    'parks',\n",
    "    'transit_stations',\n",
    "    'workplaces',\n",
    "    'residential'\n",
    "    ],\n",
    "    var_name='activity',\n",
    "    value_name='percent_change'\n",
    ")"
   ]
  },
  {
   "cell_type": "code",
   "execution_count": null,
   "metadata": {},
   "outputs": [],
   "source": [
    "memory_usage(mobility_long, detail=True)"
   ]
  },
  {
   "cell_type": "code",
   "execution_count": null,
   "metadata": {},
   "outputs": [],
   "source": [
    "# write to file\n",
    "start = time()\n",
    "mobility_long.to_csv(\n",
    "    f'{country_code}_mobility_long.csv.gz',\n",
    "    compression='gzip',\n",
    "    index=False\n",
    ")\n",
    "end = time()\n",
    "print(end - start)"
   ]
  },
  {
   "cell_type": "code",
   "execution_count": null,
   "metadata": {},
   "outputs": [],
   "source": [
    "start = time()\n",
    "us_long = pd.read_csv('./US_mobility_long.zip', compression='zip', parse_dates=['date'])\n",
    "end = time()\n",
    "print(end - start)\n",
    "us_long.head()"
   ]
  },
  {
   "cell_type": "code",
   "execution_count": null,
   "metadata": {},
   "outputs": [],
   "source": [
    "us_long.dtypes"
   ]
  },
  {
   "cell_type": "code",
   "execution_count": null,
   "metadata": {},
   "outputs": [],
   "source": [
    "us = mobility_long.loc[\n",
    "    (mobility_long.country_region == 'United States') &\n",
    "    (mobility_long.census_fips_code.notna())\n",
    "]"
   ]
  },
  {
   "cell_type": "code",
   "execution_count": null,
   "metadata": {},
   "outputs": [],
   "source": [
    "us.head()"
   ]
  },
  {
   "cell_type": "code",
   "execution_count": null,
   "metadata": {},
   "outputs": [],
   "source": [
    "us.loc[\n",
    "    (us.sub_region_1 == 'Alabama') &\n",
    "    (us.sub_region_2.isin(['Autauga County', 'Baldwin County'])),\n",
    "    ['date']\n",
    "].value_counts()"
   ]
  },
  {
   "cell_type": "code",
   "execution_count": null,
   "metadata": {},
   "outputs": [],
   "source": [
    "co.head()"
   ]
  },
  {
   "cell_type": "code",
   "execution_count": null,
   "metadata": {},
   "outputs": [],
   "source": [
    "co.shape"
   ]
  },
  {
   "cell_type": "code",
   "execution_count": null,
   "metadata": {},
   "outputs": [],
   "source": [
    "boulder = co.loc[\n",
    "    co.sub_region_2 == 'Boulder County'\n",
    "]"
   ]
  },
  {
   "cell_type": "code",
   "execution_count": null,
   "metadata": {},
   "outputs": [],
   "source": [
    "boulder.columns"
   ]
  },
  {
   "cell_type": "code",
   "execution_count": null,
   "metadata": {},
   "outputs": [],
   "source": [
    "boulder.activity.unique()"
   ]
  },
  {
   "cell_type": "code",
   "execution_count": null,
   "metadata": {},
   "outputs": [],
   "source": [
    "boulder_transit = boulder.loc[\n",
    "    boulder.activity == 'retail_recreation',\n",
    "    [\n",
    "        'date',\n",
    "        'percent_change'\n",
    "    ]\n",
    "]"
   ]
  },
  {
   "cell_type": "code",
   "execution_count": null,
   "metadata": {},
   "outputs": [],
   "source": [
    "# function for shading weekend days in plots\n",
    "def highlight_weekends(ax, timeseries):\n",
    "    # access datetime attributes of timeseries\n",
    "    dt = timeseries.dt\n",
    "    # create df of weekend start and end dates\n",
    "    ranges = timeseries[dt.dayofweek >= 5].groupby([dt.year, dt.isocalendar().week]).agg(['min', 'max'])\n",
    "    # fill area between weekend dates\n",
    "    for i, tmin, tmax in ranges.itertuples():\n",
    "        ax.axvspan(tmin, tmax, facecolor='gray', edgecolor='none', alpha=0.1)"
   ]
  },
  {
   "cell_type": "code",
   "execution_count": null,
   "metadata": {},
   "outputs": [],
   "source": [
    "fig, ax = plt.subplots(figsize=(23, 6))\n",
    "sns.lineplot(x=co.date.unique(), y=boulder_transit.percent_change)\n",
    "highlight_weekends(ax, co.date)\n",
    "# ax = sns.lineplot(x=co.date.unique(), y=boulder_transit.percent_change.rolling(7).mean())\n",
    "# start, end = ax.get_xlim()\n",
    "# ax.xaxis.set_ticks(np.arange(start + 9, end - 4, 7))\n",
    "# plt.xticks(rotation=45, ha='right', rotation_mode='anchor')\n",
    "ax.xaxis.set_tick_params(length=0)\n",
    "ax.yaxis.set_tick_params(length=0)\n",
    "plt.xlabel(\"year-month\")\n",
    "plt.title(\"transit\")\n",
    "sns.despine(left=True, bottom=True)\n",
    "plt.show()"
   ]
  }
 ],
 "metadata": {
  "kernelspec": {
   "display_name": "Python 3",
   "language": "python",
   "name": "python3"
  },
  "language_info": {
   "codemirror_mode": {
    "name": "ipython",
    "version": 3
   },
   "file_extension": ".py",
   "mimetype": "text/x-python",
   "name": "python",
   "nbconvert_exporter": "python",
   "pygments_lexer": "ipython3",
   "version": "3.6.10"
  }
 },
 "nbformat": 4,
 "nbformat_minor": 4
}
