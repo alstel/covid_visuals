{
 "cells": [
  {
   "cell_type": "code",
   "execution_count": 1,
   "metadata": {},
   "outputs": [],
   "source": [
    "import pandas as pd\n",
    "import os\n",
    "import altair as alt"
   ]
  },
  {
   "cell_type": "code",
   "execution_count": 2,
   "metadata": {},
   "outputs": [],
   "source": [
    "data_path = '~/repos/covid_visuals/mobility/google/'\n",
    "filename = 'Global_Mobility_Report.zip'\n",
    "\n",
    "mob = pd.read_csv(\n",
    "    os.path.join(data_path, filename),\n",
    "    compression='zip',\n",
    "    parse_dates=['date'],\n",
    "    low_memory=False\n",
    ")"
   ]
  },
  {
   "cell_type": "code",
   "execution_count": 3,
   "metadata": {},
   "outputs": [],
   "source": [
    "# truncate column names\n",
    "mob = mob.rename(columns={\n",
    "    'retail_and_recreation_percent_change_from_baseline': 'retail_recreation',\n",
    "    'grocery_and_pharmacy_percent_change_from_baseline': 'grocery_pharmacy',\n",
    "    'parks_percent_change_from_baseline': 'parks',\n",
    "    'transit_stations_percent_change_from_baseline': 'transit_stations',\n",
    "    'workplaces_percent_change_from_baseline': 'workplaces',\n",
    "    'residential_percent_change_from_baseline': 'residential'\n",
    "})"
   ]
  },
  {
   "cell_type": "code",
   "execution_count": 4,
   "metadata": {},
   "outputs": [],
   "source": [
    "# filter for US states\n",
    "mob = mob.loc[\n",
    "    (mob.country_region_code == 'US') &\n",
    "    (mob.sub_region_1.notna()) &\n",
    "    (mob.sub_region_2.isna()) # return statewide only\n",
    "].reset_index(drop=True)"
   ]
  },
  {
   "cell_type": "code",
   "execution_count": 5,
   "metadata": {},
   "outputs": [],
   "source": [
    "activity = 'workplaces'"
   ]
  },
  {
   "cell_type": "code",
   "execution_count": 6,
   "metadata": {},
   "outputs": [],
   "source": [
    "def get_lags(df, activity=activity):\n",
    "    \"\"\"\n",
    "    Creates df of varying days back values.\n",
    "    \"\"\"\n",
    "    # filter\n",
    "    df = df.loc[:, ['sub_region_1', 'date', activity]]\n",
    "    \n",
    "    # add lags\n",
    "    df['30_days_back'] = df[activity].shift(30)\n",
    "    df['100_days_back'] = df[activity].shift(100)\n",
    "    df['180_days_back'] = df[activity].shift(180)\n",
    "    \n",
    "    # rename columns\n",
    "    df = df.rename(columns={\n",
    "    'sub_region_1': 'state',\n",
    "    activity: 'day_of'\n",
    "    })\n",
    "    \n",
    "    # melt all variable columns into one\n",
    "    df = df.melt(\n",
    "        id_vars=[\n",
    "            'state',\n",
    "            'date'\n",
    "        ],\n",
    "        value_vars=[\n",
    "            'day_of',\n",
    "            '30_days_back',\n",
    "            '100_days_back',\n",
    "            '180_days_back'\n",
    "        ],\n",
    "        var_name='lag',\n",
    "        value_name='change_from_baseline'\n",
    "    )\n",
    "    \n",
    "    # sort and reset index\n",
    "    df = df.sort_values(by=['state', 'date']).reset_index(drop=True)\n",
    "    \n",
    "    return df"
   ]
  },
  {
   "cell_type": "code",
   "execution_count": 7,
   "metadata": {},
   "outputs": [],
   "source": [
    "def draw_plot(df, days_back='30'):\n",
    "    \"\"\"\n",
    "    Choose 30, 100, 180 days back.\n",
    "    \"\"\"\n",
    "    lag = days_back + '_days_back'\n",
    "    \n",
    "    chart = alt.layer(\n",
    "        data=df.loc[\n",
    "            (df['lag'].isin(['day_of', lag])) &\n",
    "            (df['date'] == df.date.max())\n",
    "        ]\n",
    "    )\n",
    "\n",
    "    lines = alt.Chart().mark_line(color='#c51b8a').encode(\n",
    "        x='change_from_baseline:Q',\n",
    "        y='state:N',\n",
    "        detail='state:N'\n",
    "    )\n",
    "\n",
    "    points = alt.Chart().mark_point(\n",
    "        size=100,\n",
    "        opacity=1,\n",
    "        filled=True\n",
    "    ).encode(\n",
    "        x='change_from_baseline:Q',\n",
    "        y='state:N',\n",
    "        color=alt.Color(\n",
    "            'lag:N',\n",
    "            scale=alt.Scale(\n",
    "                domain=['day_of', lag],\n",
    "                range=['#fa9fb5', '#7a0177']\n",
    "            )\n",
    "        )\n",
    "    )\n",
    "\n",
    "    (chart + lines + points).properties(\n",
    "        title=[f\"{activity} mobility {days_back}-day change by state\", f\"As of {df['date'].max()}\"]\n",
    "    ).display()"
   ]
  },
  {
   "cell_type": "code",
   "execution_count": 8,
   "metadata": {
    "scrolled": true
   },
   "outputs": [],
   "source": [
    "db_change = get_lags(mob)"
   ]
  },
  {
   "cell_type": "code",
   "execution_count": 9,
   "metadata": {},
   "outputs": [
    {
     "data": {
      "text/html": [
       "\n",
       "<div id=\"altair-viz-b89aac479bd44325916f8be47184c770\"></div>\n",
       "<script type=\"text/javascript\">\n",
       "  (function(spec, embedOpt){\n",
       "    let outputDiv = document.currentScript.previousElementSibling;\n",
       "    if (outputDiv.id !== \"altair-viz-b89aac479bd44325916f8be47184c770\") {\n",
       "      outputDiv = document.getElementById(\"altair-viz-b89aac479bd44325916f8be47184c770\");\n",
       "    }\n",
       "    const paths = {\n",
       "      \"vega\": \"https://cdn.jsdelivr.net/npm//vega@5?noext\",\n",
       "      \"vega-lib\": \"https://cdn.jsdelivr.net/npm//vega-lib?noext\",\n",
       "      \"vega-lite\": \"https://cdn.jsdelivr.net/npm//vega-lite@4.8.1?noext\",\n",
       "      \"vega-embed\": \"https://cdn.jsdelivr.net/npm//vega-embed@6?noext\",\n",
       "    };\n",
       "\n",
       "    function loadScript(lib) {\n",
       "      return new Promise(function(resolve, reject) {\n",
       "        var s = document.createElement('script');\n",
       "        s.src = paths[lib];\n",
       "        s.async = true;\n",
       "        s.onload = () => resolve(paths[lib]);\n",
       "        s.onerror = () => reject(`Error loading script: ${paths[lib]}`);\n",
       "        document.getElementsByTagName(\"head\")[0].appendChild(s);\n",
       "      });\n",
       "    }\n",
       "\n",
       "    function showError(err) {\n",
       "      outputDiv.innerHTML = `<div class=\"error\" style=\"color:red;\">${err}</div>`;\n",
       "      throw err;\n",
       "    }\n",
       "\n",
       "    function displayChart(vegaEmbed) {\n",
       "      vegaEmbed(outputDiv, spec, embedOpt)\n",
       "        .catch(err => showError(`Javascript Error: ${err.message}<br>This usually means there's a typo in your chart specification. See the javascript console for the full traceback.`));\n",
       "    }\n",
       "\n",
       "    if(typeof define === \"function\" && define.amd) {\n",
       "      requirejs.config({paths});\n",
       "      require([\"vega-embed\"], displayChart, err => showError(`Error loading script: ${err.message}`));\n",
       "    } else if (typeof vegaEmbed === \"function\") {\n",
       "      displayChart(vegaEmbed);\n",
       "    } else {\n",
       "      loadScript(\"vega\")\n",
       "        .then(() => loadScript(\"vega-lite\"))\n",
       "        .then(() => loadScript(\"vega-embed\"))\n",
       "        .catch(showError)\n",
       "        .then(() => displayChart(vegaEmbed));\n",
       "    }\n",
       "  })({\"config\": {\"view\": {\"continuousWidth\": 400, \"continuousHeight\": 300}}, \"layer\": [{\"mark\": {\"type\": \"line\", \"color\": \"#c51b8a\"}, \"encoding\": {\"detail\": {\"type\": \"nominal\", \"field\": \"state\"}, \"x\": {\"type\": \"quantitative\", \"field\": \"change_from_baseline\"}, \"y\": {\"type\": \"nominal\", \"field\": \"state\"}}}, {\"mark\": {\"type\": \"point\", \"filled\": true, \"opacity\": 1, \"size\": 100}, \"encoding\": {\"color\": {\"type\": \"nominal\", \"field\": \"lag\", \"scale\": {\"domain\": [\"day_of\", \"30_days_back\"], \"range\": [\"#fa9fb5\", \"#7a0177\"]}}, \"x\": {\"type\": \"quantitative\", \"field\": \"change_from_baseline\"}, \"y\": {\"type\": \"nominal\", \"field\": \"state\"}}}], \"data\": {\"name\": \"data-d5dab33791972dddc4555169792bca5f\"}, \"title\": [\"workplaces mobility 30-day change by state\", \"As of 2021-01-22 00:00:00\"], \"$schema\": \"https://vega.github.io/schema/vega-lite/v4.8.1.json\", \"datasets\": {\"data-d5dab33791972dddc4555169792bca5f\": [{\"state\": \"Alabama\", \"date\": \"2021-01-22T00:00:00\", \"lag\": \"day_of\", \"change_from_baseline\": -22.0}, {\"state\": \"Alabama\", \"date\": \"2021-01-22T00:00:00\", \"lag\": \"30_days_back\", \"change_from_baseline\": -35.0}, {\"state\": \"Alaska\", \"date\": \"2021-01-22T00:00:00\", \"lag\": \"day_of\", \"change_from_baseline\": -24.0}, {\"state\": \"Alaska\", \"date\": \"2021-01-22T00:00:00\", \"lag\": \"30_days_back\", \"change_from_baseline\": -33.0}, {\"state\": \"Arizona\", \"date\": \"2021-01-22T00:00:00\", \"lag\": \"day_of\", \"change_from_baseline\": -34.0}, {\"state\": \"Arizona\", \"date\": \"2021-01-22T00:00:00\", \"lag\": \"30_days_back\", \"change_from_baseline\": -42.0}, {\"state\": \"Arkansas\", \"date\": \"2021-01-22T00:00:00\", \"lag\": \"day_of\", \"change_from_baseline\": -21.0}, {\"state\": \"Arkansas\", \"date\": \"2021-01-22T00:00:00\", \"lag\": \"30_days_back\", \"change_from_baseline\": -36.0}, {\"state\": \"California\", \"date\": \"2021-01-22T00:00:00\", \"lag\": \"day_of\", \"change_from_baseline\": -42.0}, {\"state\": \"California\", \"date\": \"2021-01-22T00:00:00\", \"lag\": \"30_days_back\", \"change_from_baseline\": -47.0}, {\"state\": \"Colorado\", \"date\": \"2021-01-22T00:00:00\", \"lag\": \"day_of\", \"change_from_baseline\": -33.0}, {\"state\": \"Colorado\", \"date\": \"2021-01-22T00:00:00\", \"lag\": \"30_days_back\", \"change_from_baseline\": -45.0}, {\"state\": \"Connecticut\", \"date\": \"2021-01-22T00:00:00\", \"lag\": \"day_of\", \"change_from_baseline\": -30.0}, {\"state\": \"Connecticut\", \"date\": \"2021-01-22T00:00:00\", \"lag\": \"30_days_back\", \"change_from_baseline\": -37.0}, {\"state\": \"Delaware\", \"date\": \"2021-01-22T00:00:00\", \"lag\": \"day_of\", \"change_from_baseline\": -32.0}, {\"state\": \"Delaware\", \"date\": \"2021-01-22T00:00:00\", \"lag\": \"30_days_back\", \"change_from_baseline\": -37.0}, {\"state\": \"District of Columbia\", \"date\": \"2021-01-22T00:00:00\", \"lag\": \"day_of\", \"change_from_baseline\": -56.0}, {\"state\": \"District of Columbia\", \"date\": \"2021-01-22T00:00:00\", \"lag\": \"30_days_back\", \"change_from_baseline\": -58.0}, {\"state\": \"Florida\", \"date\": \"2021-01-22T00:00:00\", \"lag\": \"day_of\", \"change_from_baseline\": -27.0}, {\"state\": \"Florida\", \"date\": \"2021-01-22T00:00:00\", \"lag\": \"30_days_back\", \"change_from_baseline\": -36.0}, {\"state\": \"Georgia\", \"date\": \"2021-01-22T00:00:00\", \"lag\": \"day_of\", \"change_from_baseline\": -30.0}, {\"state\": \"Georgia\", \"date\": \"2021-01-22T00:00:00\", \"lag\": \"30_days_back\", \"change_from_baseline\": -41.0}, {\"state\": \"Hawaii\", \"date\": \"2021-01-22T00:00:00\", \"lag\": \"day_of\", \"change_from_baseline\": -30.0}, {\"state\": \"Hawaii\", \"date\": \"2021-01-22T00:00:00\", \"lag\": \"30_days_back\", \"change_from_baseline\": -38.0}, {\"state\": \"Idaho\", \"date\": \"2021-01-22T00:00:00\", \"lag\": \"day_of\", \"change_from_baseline\": -22.0}, {\"state\": \"Idaho\", \"date\": \"2021-01-22T00:00:00\", \"lag\": \"30_days_back\", \"change_from_baseline\": -35.0}, {\"state\": \"Illinois\", \"date\": \"2021-01-22T00:00:00\", \"lag\": \"day_of\", \"change_from_baseline\": -33.0}, {\"state\": \"Illinois\", \"date\": \"2021-01-22T00:00:00\", \"lag\": \"30_days_back\", \"change_from_baseline\": -41.0}, {\"state\": \"Indiana\", \"date\": \"2021-01-22T00:00:00\", \"lag\": \"day_of\", \"change_from_baseline\": -23.0}, {\"state\": \"Indiana\", \"date\": \"2021-01-22T00:00:00\", \"lag\": \"30_days_back\", \"change_from_baseline\": -36.0}, {\"state\": \"Iowa\", \"date\": \"2021-01-22T00:00:00\", \"lag\": \"day_of\", \"change_from_baseline\": -17.0}, {\"state\": \"Iowa\", \"date\": \"2021-01-22T00:00:00\", \"lag\": \"30_days_back\", \"change_from_baseline\": -34.0}, {\"state\": \"Kansas\", \"date\": \"2021-01-22T00:00:00\", \"lag\": \"day_of\", \"change_from_baseline\": -20.0}, {\"state\": \"Kansas\", \"date\": \"2021-01-22T00:00:00\", \"lag\": \"30_days_back\", \"change_from_baseline\": -38.0}, {\"state\": \"Kentucky\", \"date\": \"2021-01-22T00:00:00\", \"lag\": \"day_of\", \"change_from_baseline\": -27.0}, {\"state\": \"Kentucky\", \"date\": \"2021-01-22T00:00:00\", \"lag\": \"30_days_back\", \"change_from_baseline\": -35.0}, {\"state\": \"Louisiana\", \"date\": \"2021-01-22T00:00:00\", \"lag\": \"day_of\", \"change_from_baseline\": -24.0}, {\"state\": \"Louisiana\", \"date\": \"2021-01-22T00:00:00\", \"lag\": \"30_days_back\", \"change_from_baseline\": -34.0}, {\"state\": \"Maine\", \"date\": \"2021-01-22T00:00:00\", \"lag\": \"day_of\", \"change_from_baseline\": -26.0}, {\"state\": \"Maine\", \"date\": \"2021-01-22T00:00:00\", \"lag\": \"30_days_back\", \"change_from_baseline\": -32.0}, {\"state\": \"Maryland\", \"date\": \"2021-01-22T00:00:00\", \"lag\": \"day_of\", \"change_from_baseline\": -39.0}, {\"state\": \"Maryland\", \"date\": \"2021-01-22T00:00:00\", \"lag\": \"30_days_back\", \"change_from_baseline\": -43.0}, {\"state\": \"Massachusetts\", \"date\": \"2021-01-22T00:00:00\", \"lag\": \"day_of\", \"change_from_baseline\": -39.0}, {\"state\": \"Massachusetts\", \"date\": \"2021-01-22T00:00:00\", \"lag\": \"30_days_back\", \"change_from_baseline\": -44.0}, {\"state\": \"Michigan\", \"date\": \"2021-01-22T00:00:00\", \"lag\": \"day_of\", \"change_from_baseline\": -31.0}, {\"state\": \"Michigan\", \"date\": \"2021-01-22T00:00:00\", \"lag\": \"30_days_back\", \"change_from_baseline\": -40.0}, {\"state\": \"Minnesota\", \"date\": \"2021-01-22T00:00:00\", \"lag\": \"day_of\", \"change_from_baseline\": -33.0}, {\"state\": \"Minnesota\", \"date\": \"2021-01-22T00:00:00\", \"lag\": \"30_days_back\", \"change_from_baseline\": -47.0}, {\"state\": \"Mississippi\", \"date\": \"2021-01-22T00:00:00\", \"lag\": \"day_of\", \"change_from_baseline\": -20.0}, {\"state\": \"Mississippi\", \"date\": \"2021-01-22T00:00:00\", \"lag\": \"30_days_back\", \"change_from_baseline\": -34.0}, {\"state\": \"Missouri\", \"date\": \"2021-01-22T00:00:00\", \"lag\": \"day_of\", \"change_from_baseline\": -13.0}, {\"state\": \"Missouri\", \"date\": \"2021-01-22T00:00:00\", \"lag\": \"30_days_back\", \"change_from_baseline\": -36.0}, {\"state\": \"Montana\", \"date\": \"2021-01-22T00:00:00\", \"lag\": \"day_of\", \"change_from_baseline\": -18.0}, {\"state\": \"Montana\", \"date\": \"2021-01-22T00:00:00\", \"lag\": \"30_days_back\", \"change_from_baseline\": -29.0}, {\"state\": \"Nebraska\", \"date\": \"2021-01-22T00:00:00\", \"lag\": \"day_of\", \"change_from_baseline\": -20.0}, {\"state\": \"Nebraska\", \"date\": \"2021-01-22T00:00:00\", \"lag\": \"30_days_back\", \"change_from_baseline\": -38.0}, {\"state\": \"Nevada\", \"date\": \"2021-01-22T00:00:00\", \"lag\": \"day_of\", \"change_from_baseline\": -34.0}, {\"state\": \"Nevada\", \"date\": \"2021-01-22T00:00:00\", \"lag\": \"30_days_back\", \"change_from_baseline\": -39.0}, {\"state\": \"New Hampshire\", \"date\": \"2021-01-22T00:00:00\", \"lag\": \"day_of\", \"change_from_baseline\": -27.0}, {\"state\": \"New Hampshire\", \"date\": \"2021-01-22T00:00:00\", \"lag\": \"30_days_back\", \"change_from_baseline\": -35.0}, {\"state\": \"New Jersey\", \"date\": \"2021-01-22T00:00:00\", \"lag\": \"day_of\", \"change_from_baseline\": -37.0}, {\"state\": \"New Jersey\", \"date\": \"2021-01-22T00:00:00\", \"lag\": \"30_days_back\", \"change_from_baseline\": -41.0}, {\"state\": \"New Mexico\", \"date\": \"2021-01-22T00:00:00\", \"lag\": \"day_of\", \"change_from_baseline\": -33.0}, {\"state\": \"New Mexico\", \"date\": \"2021-01-22T00:00:00\", \"lag\": \"30_days_back\", \"change_from_baseline\": -42.0}, {\"state\": \"New York\", \"date\": \"2021-01-22T00:00:00\", \"lag\": \"day_of\", \"change_from_baseline\": -37.0}, {\"state\": \"New York\", \"date\": \"2021-01-22T00:00:00\", \"lag\": \"30_days_back\", \"change_from_baseline\": -40.0}, {\"state\": \"North Carolina\", \"date\": \"2021-01-22T00:00:00\", \"lag\": \"day_of\", \"change_from_baseline\": -29.0}, {\"state\": \"North Carolina\", \"date\": \"2021-01-22T00:00:00\", \"lag\": \"30_days_back\", \"change_from_baseline\": -40.0}, {\"state\": \"North Dakota\", \"date\": \"2021-01-22T00:00:00\", \"lag\": \"day_of\", \"change_from_baseline\": -16.0}, {\"state\": \"North Dakota\", \"date\": \"2021-01-22T00:00:00\", \"lag\": \"30_days_back\", \"change_from_baseline\": -39.0}, {\"state\": \"Ohio\", \"date\": \"2021-01-22T00:00:00\", \"lag\": \"day_of\", \"change_from_baseline\": -26.0}, {\"state\": \"Ohio\", \"date\": \"2021-01-22T00:00:00\", \"lag\": \"30_days_back\", \"change_from_baseline\": -37.0}, {\"state\": \"Oklahoma\", \"date\": \"2021-01-22T00:00:00\", \"lag\": \"day_of\", \"change_from_baseline\": -22.0}, {\"state\": \"Oklahoma\", \"date\": \"2021-01-22T00:00:00\", \"lag\": \"30_days_back\", \"change_from_baseline\": -35.0}, {\"state\": \"Oregon\", \"date\": \"2021-01-22T00:00:00\", \"lag\": \"day_of\", \"change_from_baseline\": -36.0}, {\"state\": \"Oregon\", \"date\": \"2021-01-22T00:00:00\", \"lag\": \"30_days_back\", \"change_from_baseline\": -42.0}, {\"state\": \"Pennsylvania\", \"date\": \"2021-01-22T00:00:00\", \"lag\": \"day_of\", \"change_from_baseline\": -31.0}, {\"state\": \"Pennsylvania\", \"date\": \"2021-01-22T00:00:00\", \"lag\": \"30_days_back\", \"change_from_baseline\": -40.0}, {\"state\": \"Rhode Island\", \"date\": \"2021-01-22T00:00:00\", \"lag\": \"day_of\", \"change_from_baseline\": -31.0}, {\"state\": \"Rhode Island\", \"date\": \"2021-01-22T00:00:00\", \"lag\": \"30_days_back\", \"change_from_baseline\": -38.0}, {\"state\": \"South Carolina\", \"date\": \"2021-01-22T00:00:00\", \"lag\": \"day_of\", \"change_from_baseline\": -24.0}, {\"state\": \"South Carolina\", \"date\": \"2021-01-22T00:00:00\", \"lag\": \"30_days_back\", \"change_from_baseline\": -37.0}, {\"state\": \"South Dakota\", \"date\": \"2021-01-22T00:00:00\", \"lag\": \"day_of\", \"change_from_baseline\": -11.0}, {\"state\": \"South Dakota\", \"date\": \"2021-01-22T00:00:00\", \"lag\": \"30_days_back\", \"change_from_baseline\": -40.0}, {\"state\": \"Tennessee\", \"date\": \"2021-01-22T00:00:00\", \"lag\": \"day_of\", \"change_from_baseline\": -24.0}, {\"state\": \"Tennessee\", \"date\": \"2021-01-22T00:00:00\", \"lag\": \"30_days_back\", \"change_from_baseline\": -37.0}, {\"state\": \"Texas\", \"date\": \"2021-01-22T00:00:00\", \"lag\": \"day_of\", \"change_from_baseline\": -29.0}, {\"state\": \"Texas\", \"date\": \"2021-01-22T00:00:00\", \"lag\": \"30_days_back\", \"change_from_baseline\": -42.0}, {\"state\": \"Utah\", \"date\": \"2021-01-22T00:00:00\", \"lag\": \"day_of\", \"change_from_baseline\": -29.0}, {\"state\": \"Utah\", \"date\": \"2021-01-22T00:00:00\", \"lag\": \"30_days_back\", \"change_from_baseline\": -44.0}, {\"state\": \"Vermont\", \"date\": \"2021-01-22T00:00:00\", \"lag\": \"day_of\", \"change_from_baseline\": -28.0}, {\"state\": \"Vermont\", \"date\": \"2021-01-22T00:00:00\", \"lag\": \"30_days_back\", \"change_from_baseline\": -37.0}, {\"state\": \"Virginia\", \"date\": \"2021-01-22T00:00:00\", \"lag\": \"day_of\", \"change_from_baseline\": -35.0}, {\"state\": \"Virginia\", \"date\": \"2021-01-22T00:00:00\", \"lag\": \"30_days_back\", \"change_from_baseline\": -44.0}, {\"state\": \"Washington\", \"date\": \"2021-01-22T00:00:00\", \"lag\": \"day_of\", \"change_from_baseline\": -39.0}, {\"state\": \"Washington\", \"date\": \"2021-01-22T00:00:00\", \"lag\": \"30_days_back\", \"change_from_baseline\": -46.0}, {\"state\": \"West Virginia\", \"date\": \"2021-01-22T00:00:00\", \"lag\": \"day_of\", \"change_from_baseline\": -22.0}, {\"state\": \"West Virginia\", \"date\": \"2021-01-22T00:00:00\", \"lag\": \"30_days_back\", \"change_from_baseline\": -31.0}, {\"state\": \"Wisconsin\", \"date\": \"2021-01-22T00:00:00\", \"lag\": \"day_of\", \"change_from_baseline\": -25.0}, {\"state\": \"Wisconsin\", \"date\": \"2021-01-22T00:00:00\", \"lag\": \"30_days_back\", \"change_from_baseline\": -36.0}, {\"state\": \"Wyoming\", \"date\": \"2021-01-22T00:00:00\", \"lag\": \"day_of\", \"change_from_baseline\": -12.0}, {\"state\": \"Wyoming\", \"date\": \"2021-01-22T00:00:00\", \"lag\": \"30_days_back\", \"change_from_baseline\": -36.0}]}}, {\"mode\": \"vega-lite\"});\n",
       "</script>"
      ],
      "text/plain": [
       "alt.LayerChart(...)"
      ]
     },
     "metadata": {},
     "output_type": "display_data"
    }
   ],
   "source": [
    "draw_plot(db_change, days_back='30')"
   ]
  }
 ],
 "metadata": {
  "kernelspec": {
   "display_name": "Python 3",
   "language": "python",
   "name": "python3"
  },
  "language_info": {
   "codemirror_mode": {
    "name": "ipython",
    "version": 3
   },
   "file_extension": ".py",
   "mimetype": "text/x-python",
   "name": "python",
   "nbconvert_exporter": "python",
   "pygments_lexer": "ipython3",
   "version": "3.6.10"
  }
 },
 "nbformat": 4,
 "nbformat_minor": 4
}
